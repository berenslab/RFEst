{
 "cells": [
  {
   "cell_type": "code",
   "execution_count": 1,
   "metadata": {},
   "outputs": [],
   "source": [
    "import numpy as np\n",
    "import matplotlib.pyplot as plt\n",
    "\n",
    "import scipy.stats\n",
    "import scipy.linalg\n",
    "import scipy.signal\n",
    "\n",
    "from rfest import build_design_matrix\n",
    "from rfest import ARD, ASD, ALD, splineLG\n",
    "\n",
    "from sklearn.metrics import r2_score"
   ]
  },
  {
   "cell_type": "markdown",
   "metadata": {},
   "source": [
    "The following script to simulate correlated noise data is ported from matlab code by [leaduncker](https://github.com/leaduncker/SimpleEvidenceOpt)."
   ]
  },
  {
   "cell_type": "markdown",
   "metadata": {},
   "source": [
    "# Make 2D Receptive Field"
   ]
  },
  {
   "cell_type": "code",
   "execution_count": 2,
   "metadata": {},
   "outputs": [],
   "source": [
    "dt = 1/60 # time bin size\n",
    "nt = 30\n",
    "nx = 40\n",
    "tt = np.arange(-nt*dt, 0, dt)\n",
    "\n",
    "kt1 = scipy.stats.gamma.pdf(-tt, 4, scale=.025)\n",
    "kt2 = scipy.stats.gamma.pdf(-tt, 6, scale=.03)\n",
    "kt1 /= np.linalg.norm(kt1)\n",
    "kt2 /= -np.linalg.norm(kt2)\n",
    "\n",
    "kt = np.vstack([kt1, kt2]).T\n",
    "\n",
    "xx = np.linspace(-2, 2, nx)\n",
    "\n",
    "kx1 = np.cos(2*np.pi*xx/2 + np.pi/5) * np.exp(-1/(2*0.35**2) * xx**2)\n",
    "kx2 = np.sin(2*np.pi*xx/2 + np.pi/5) * np.exp(-1/(2*0.35**2) * xx**2)\n",
    "\n",
    "kx1 /= np.linalg.norm(kx1)\n",
    "kx2 /= np.linalg.norm(kx2)\n",
    "\n",
    "kx = np.vstack([kx1, kx2])\n",
    "\n",
    "k = kt @ kx\n",
    "k_norm = k/np.linalg.norm(k)"
   ]
  },
  {
   "cell_type": "code",
   "execution_count": 3,
   "metadata": {},
   "outputs": [
    {
     "data": {
      "text/plain": [
       "Text(0.5, 1.0, 'True Receptive Field')"
      ]
     },
     "execution_count": 3,
     "metadata": {},
     "output_type": "execute_result"
    },
    {
     "data": {
      "image/png": "[encoded data removed]",
      "text/plain": [
       "<Figure size 432x288 with 2 Axes>"
      ]
     },
     "metadata": {
      "needs_background": "light"
     },
     "output_type": "display_data"
    }
   ],
   "source": [
    "plt.imshow(k_norm, cmap=plt.cm.bwr, vmin=-0.2, vmax=0.2)\n",
    "plt.colorbar()\n",
    "plt.xticks([])\n",
    "plt.yticks([])\n",
    "plt.xlabel('Time', fontsize=12)\n",
    "plt.ylabel('Space', fontsize=12)\n",
    "plt.title('True Receptive Field', fontsize=14)"
   ]
  },
  {
   "cell_type": "markdown",
   "metadata": {},
   "source": [
    "# Simulate Correlated Noise and Response"
   ]
  },
  {
   "cell_type": "code",
   "execution_count": 4,
   "metadata": {},
   "outputs": [],
   "source": [
    "N = 5000 # sample size\n",
    "signse = 1 # noise stdev\n",
    "Sigma = scipy.linalg.toeplitz(np.exp(-(np.arange(0, nx)) / (nx/6))) # correlated (AR1) stim covariance\n",
    "\n",
    "mu = np.zeros(nx)\n",
    "np.random.seed(2046)\n",
    "Stim = np.random.multivariate_normal(mu, Sigma, N) \n",
    "X = build_design_matrix(Stim, nt)\n",
    "y = X @ k.flatten() + signse * np.random.randn(N)\n",
    "\n",
    "dims = [nt, nx] # Receptive fields dims"
   ]
  },
  {
   "cell_type": "markdown",
   "metadata": {},
   "source": [
    "# Run ASD, ALD, splineLG"
   ]
  },
  {
   "cell_type": "code",
   "execution_count": 5,
   "metadata": {
    "scrolled": true
   },
   "outputs": [
    {
     "name": "stderr",
     "output_type": "stream",
     "text": [
      "/Users/ziweih/.pyenv/versions/miniconda3-latest/lib/python3.7/site-packages/jax/lib/xla_bridge.py:114: UserWarning: No GPU/TPU found, falling back to CPU.\n",
      "  warnings.warn('No GPU/TPU found, falling back to CPU.')\n"
     ]
    },
    {
     "name": "stdout",
     "output_type": "stream",
     "text": [
      "Iter\tσ\tρ\tδt\tδs\tcost\n",
      "   0\t1.010\t1.010\t7.010\t7.010\t17696.130\n",
      "   1\t1.020\t1.019\t7.020\t7.020\t17490.080\n",
      "   2\t1.030\t1.024\t7.030\t7.029\t17242.692\n",
      "   3\t1.040\t1.030\t7.040\t7.038\t17023.409\n",
      "   4\t1.050\t1.037\t7.050\t7.047\t16833.348\n",
      "   5\t1.060\t1.042\t7.059\t7.057\t16626.441\n",
      "   6\t1.070\t1.049\t7.068\t7.061\t16427.582\n",
      "   7\t1.079\t1.048\t7.073\t7.061\t16239.753\n",
      "   8\t1.089\t1.048\t7.080\t7.062\t16043.165\n",
      "   9\t1.099\t1.051\t7.087\t7.066\t15853.496\n",
      "Stop: reached 10 steps, final cost=15853.49619.\n"
     ]
    }
   ],
   "source": [
    "asd = ASD(X, y, dims, compute_mle=False)\n",
    "asd.fit(p0=np.array([1. , 1., 7., 7.,]), num_iters=10)"
   ]
  },
  {
   "cell_type": "code",
   "execution_count": 6,
   "metadata": {},
   "outputs": [
    {
     "name": "stdout",
     "output_type": "stream",
     "text": [
      "* Due to space limit, parameters for frequency domain are not printed.\n",
      "Iter\tσ\tρ\tτ_t\tν_t\tτ_y\tν_y\tcost\n",
      "   0\t1.010\t1.010\t2.990\t20.010\t2.990\t19.990\t8976.964\n",
      "   1\t1.020\t1.005\t2.997\t20.016\t2.991\t19.990\t8732.151\n",
      "   2\t1.030\t1.010\t2.997\t20.020\t2.992\t19.987\t8482.235\n",
      "   3\t1.040\t1.016\t2.994\t20.027\t2.993\t19.986\t8224.494\n",
      "   4\t1.050\t1.023\t2.990\t20.033\t2.995\t19.986\t7977.185\n",
      "   5\t1.060\t1.023\t2.989\t20.033\t2.994\t19.987\t7740.746\n",
      "   6\t1.070\t1.024\t2.987\t20.036\t2.992\t19.987\t7504.322\n",
      "   7\t1.079\t1.027\t2.987\t20.039\t2.989\t19.987\t7285.283\n",
      "   8\t1.089\t1.030\t2.986\t20.044\t2.987\t19.986\t7067.588\n",
      "   9\t1.099\t1.033\t2.984\t20.049\t2.983\t19.985\t6854.531\n",
      "Stop: reached 10 steps, final cost=6854.53080.\n"
     ]
    }
   ],
   "source": [
    "ald = ALD(X, y, dims, compute_mle=False)\n",
    "\n",
    "sigma0 = [1.]\n",
    "rho0 = [1.]\n",
    "params_t0 = [3., 20., 1., 1.] # taus, nus, tauf, nuf\n",
    "params_y0 = [3., 20., 1., 1.]\n",
    "p0 = sigma0 + rho0 + params_t0 + params_y0\n",
    "ald.fit(p0=p0, num_iters=10)"
   ]
  },
  {
   "cell_type": "code",
   "execution_count": 7,
   "metadata": {},
   "outputs": [
    {
     "name": "stdout",
     "output_type": "stream",
     "text": [
      "Iter\tCost\t\n",
      "0\t1.513\t\n",
      "100\t1.266\t\n",
      "Stop: reached 200 steps, final cost=1.26575.\n"
     ]
    }
   ],
   "source": [
    "# B-spline\n",
    "bs = splineLG(X, y, dims=dims, df=12, smooth='bs', compute_mle=True)\n",
    "bs.fit(num_iters=200, verbal=100, alpha=1, lambd=0.1)"
   ]
  },
  {
   "cell_type": "code",
   "execution_count": 8,
   "metadata": {},
   "outputs": [
    {
     "name": "stdout",
     "output_type": "stream",
     "text": [
      "Iter\tCost\t\n",
      "0\t1.391\t\n",
      "100\t1.179\t\n",
      "Stop: reached 200 steps, final cost=1.18036.\n"
     ]
    }
   ],
   "source": [
    "# Natural Cubic Regression Spline\n",
    "cr = splineLG(X, y, dims=dims, df=12, smooth='cr', compute_mle=True)\n",
    "cr.fit(num_iters=200, verbal=100, alpha=1, lambd=0.1)"
   ]
  },
  {
   "cell_type": "markdown",
   "metadata": {},
   "source": [
    "# Plot Results"
   ]
  },
  {
   "cell_type": "code",
   "execution_count": 9,
   "metadata": {
    "scrolled": false
   },
   "outputs": [
    {
     "data": {
      "text/plain": [
       "Text(0, 0.5, 'Space')"
      ]
     },
     "execution_count": 9,
     "metadata": {},
     "output_type": "execute_result"
    },
    {
     "data": {
      "image/png": "[encoded data removed]",
      "text/plain": [
       "<Figure size 576x864 with 12 Axes>"
      ]
     },
     "metadata": {
      "needs_background": "light"
     },
     "output_type": "display_data"
    }
   ],
   "source": [
    "fig, ax = plt.subplots(4,3, figsize=(8, 12))\n",
    "ax = ax.flatten()\n",
    "labels = ['True', 'STA', 'MLE', '', 'ASD', 'ALD', \n",
    "                                '', 'BS MLE', 'BS w/ L1', \n",
    "                                '', 'CR MLE', 'CR w/ L1']\n",
    "for ii, w in enumerate([k, cr.w_sta, cr.w_mle, \n",
    "                        0, asd.w_opt, ald.w_opt , \n",
    "                        0, bs.w_spl, bs.w_opt,\n",
    "                        0, cr.w_spl, cr.w_opt]):\n",
    "    \n",
    "    if np.ndim(w) == 0:\n",
    "        ax[ii].axis('off')\n",
    "        continue\n",
    "    \n",
    "    w = w.reshape(dims) \n",
    "    w_norm =  w /np.linalg.norm(w)\n",
    "    ax[ii].imshow(w_norm, cmap=plt.cm.bwr, vmin=-0.2, vmax=0.2)\n",
    "    ax[ii].set_title(\"{0}: {1:.3f}\".format(labels[ii], r2_score(k_norm.flatten(), w_norm.flatten())), fontsize=14)\n",
    "    ax[ii].set_xticks([])\n",
    "    ax[ii].set_yticks([])\n",
    "ax[0].set_xlabel('Time', fontsize=12)\n",
    "ax[0].set_ylabel('Space', fontsize=12)"
   ]
  },
  {
   "cell_type": "markdown",
   "metadata": {},
   "source": [
    "Numbers indicate the r2 score of the true RF and the retrieved RF."
   ]
  }
 ],
 "metadata": {
  "kernelspec": {
   "display_name": "Python 3",
   "language": "python",
   "name": "python3"
  },
  "language_info": {
   "codemirror_mode": {
    "name": "ipython",
    "version": 3
   },
   "file_extension": ".py",
   "mimetype": "text/x-python",
   "name": "python",
   "nbconvert_exporter": "python",
   "pygments_lexer": "ipython3",
   "version": "3.7.4"
  },
  "varInspector": {
   "cols": {
    "lenName": 16,
    "lenType": 16,
    "lenVar": 40
   },
   "kernels_config": {
    "python": {
     "delete_cmd_postfix": "",
     "delete_cmd_prefix": "del ",
     "library": "var_list.py",
     "varRefreshCmd": "print(var_dic_list())"
    },
    "r": {
     "delete_cmd_postfix": ") ",
     "delete_cmd_prefix": "rm(",
     "library": "var_list.r",
     "varRefreshCmd": "cat(var_dic_list()) "
    }
   },
   "types_to_exclude": [
    "module",
    "function",
    "builtin_function_or_method",
    "instance",
    "_Feature"
   ],
   "window_display": false
  }
 },
 "nbformat": 4,
 "nbformat_minor": 2
}
